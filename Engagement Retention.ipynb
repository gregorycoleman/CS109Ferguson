{
 "metadata": {
  "name": "",
  "signature": "sha256:e234b8c5df48251ba7067d8ddd782df14f566dcedb1b9d50a02db74448a3eee0"
 },
 "nbformat": 3,
 "nbformat_minor": 0,
 "worksheets": [
  {
   "cells": [
    {
     "cell_type": "markdown",
     "metadata": {},
     "source": [
      "### Track the level of engagement across users who tweeted 10+ times in August"
     ]
    },
    {
     "cell_type": "code",
     "collapsed": false,
     "input": [
      "import numpy as np\n",
      "import pandas as pd\n",
      "import matplotlib.pyplot as plt\n",
      "import seaborn as sns"
     ],
     "language": "python",
     "metadata": {},
     "outputs": [],
     "prompt_number": 2
    },
    {
     "cell_type": "code",
     "collapsed": false,
     "input": [
      "## read in the user.id and tweet.id data from the august dataset\n",
      "df = pd.read_csv(\"/home/data/aug_reduced_all.csv\",usecols=[1,5])"
     ],
     "language": "python",
     "metadata": {},
     "outputs": [],
     "prompt_number": 3
    },
    {
     "cell_type": "code",
     "collapsed": false,
     "input": [
      "df.head()"
     ],
     "language": "python",
     "metadata": {},
     "outputs": [
      {
       "html": [
        "<div style=\"max-height:1000px;max-width:1500px;overflow:auto;\">\n",
        "<table border=\"1\" class=\"dataframe\">\n",
        "  <thead>\n",
        "    <tr style=\"text-align: right;\">\n",
        "      <th></th>\n",
        "      <th>id</th>\n",
        "      <th>user.id_x</th>\n",
        "    </tr>\n",
        "  </thead>\n",
        "  <tbody>\n",
        "    <tr>\n",
        "      <th>0</th>\n",
        "      <td> 4.986011e+17</td>\n",
        "      <td>   41712041</td>\n",
        "    </tr>\n",
        "    <tr>\n",
        "      <th>1</th>\n",
        "      <td> 4.986012e+17</td>\n",
        "      <td> 1928268895</td>\n",
        "    </tr>\n",
        "    <tr>\n",
        "      <th>2</th>\n",
        "      <td> 4.986013e+17</td>\n",
        "      <td>  462427721</td>\n",
        "    </tr>\n",
        "    <tr>\n",
        "      <th>3</th>\n",
        "      <td> 4.986013e+17</td>\n",
        "      <td> 1952105298</td>\n",
        "    </tr>\n",
        "    <tr>\n",
        "      <th>4</th>\n",
        "      <td> 4.986015e+17</td>\n",
        "      <td>  355918910</td>\n",
        "    </tr>\n",
        "  </tbody>\n",
        "</table>\n",
        "</div>"
       ],
       "metadata": {},
       "output_type": "pyout",
       "prompt_number": 4,
       "text": [
        "             id   user.id_x\n",
        "0  4.986011e+17    41712041\n",
        "1  4.986012e+17  1928268895\n",
        "2  4.986013e+17   462427721\n",
        "3  4.986013e+17  1952105298\n",
        "4  4.986015e+17   355918910"
       ]
      }
     ],
     "prompt_number": 4
    },
    {
     "cell_type": "code",
     "collapsed": false,
     "input": [
      "## count the number of tweets per user\n",
      "counter = pd.DataFrame({'count' : df.groupby( [ \"user.id_x\"] ).size()}).reset_index()"
     ],
     "language": "python",
     "metadata": {},
     "outputs": [],
     "prompt_number": 5
    },
    {
     "cell_type": "code",
     "collapsed": false,
     "input": [
      "counter.head()"
     ],
     "language": "python",
     "metadata": {},
     "outputs": [
      {
       "html": [
        "<div style=\"max-height:1000px;max-width:1500px;overflow:auto;\">\n",
        "<table border=\"1\" class=\"dataframe\">\n",
        "  <thead>\n",
        "    <tr style=\"text-align: right;\">\n",
        "      <th></th>\n",
        "      <th>user.id_x</th>\n",
        "      <th>count</th>\n",
        "    </tr>\n",
        "  </thead>\n",
        "  <tbody>\n",
        "    <tr>\n",
        "      <th>0</th>\n",
        "      <td>  12</td>\n",
        "      <td> 11</td>\n",
        "    </tr>\n",
        "    <tr>\n",
        "      <th>1</th>\n",
        "      <td>  57</td>\n",
        "      <td> 28</td>\n",
        "    </tr>\n",
        "    <tr>\n",
        "      <th>2</th>\n",
        "      <td>  58</td>\n",
        "      <td>  9</td>\n",
        "    </tr>\n",
        "    <tr>\n",
        "      <th>3</th>\n",
        "      <td>  76</td>\n",
        "      <td>  9</td>\n",
        "    </tr>\n",
        "    <tr>\n",
        "      <th>4</th>\n",
        "      <td> 521</td>\n",
        "      <td>  6</td>\n",
        "    </tr>\n",
        "  </tbody>\n",
        "</table>\n",
        "</div>"
       ],
       "metadata": {},
       "output_type": "pyout",
       "prompt_number": 6,
       "text": [
        "   user.id_x  count\n",
        "0         12     11\n",
        "1         57     28\n",
        "2         58      9\n",
        "3         76      9\n",
        "4        521      6"
       ]
      }
     ],
     "prompt_number": 6
    },
    {
     "cell_type": "markdown",
     "metadata": {},
     "source": [
      "the below is commented out because kernel crashes required us to process the data separately, but the process for counting tweets over the time period is the same as above"
     ]
    },
    {
     "cell_type": "code",
     "collapsed": false,
     "input": [
      "#%reset_selective df"
     ],
     "language": "python",
     "metadata": {},
     "outputs": [],
     "prompt_number": 7
    },
    {
     "cell_type": "code",
     "collapsed": false,
     "input": [
      "#df = pd.read_csv(\"/home/data/nov_reduced.csv\")\n",
      "#df.head()"
     ],
     "language": "python",
     "metadata": {},
     "outputs": [],
     "prompt_number": 8
    },
    {
     "cell_type": "code",
     "collapsed": false,
     "input": [
      "#counter = pd.DataFrame({'count_nov' : df.groupby( [ \"user.id\"] ).size()}).reset_index()\n",
      "#counter.head()"
     ],
     "language": "python",
     "metadata": {},
     "outputs": [],
     "prompt_number": 9
    },
    {
     "cell_type": "code",
     "collapsed": false,
     "input": [
      "#counter.to_csv(\"/home/data/nov_tweet_count_byuser\", index=False)"
     ],
     "language": "python",
     "metadata": {},
     "outputs": [],
     "prompt_number": 10
    },
    {
     "cell_type": "code",
     "collapsed": false,
     "input": [
      "## read in november tweet-count data\n",
      "nov_count = pd.read_csv(\"/home/data/nov_tweet_count_byuser\")"
     ],
     "language": "python",
     "metadata": {},
     "outputs": [],
     "prompt_number": 11
    },
    {
     "cell_type": "code",
     "collapsed": false,
     "input": [
      "counter.columns = [\"user.id\",\"count_aug\"]"
     ],
     "language": "python",
     "metadata": {},
     "outputs": [],
     "prompt_number": 12
    },
    {
     "cell_type": "code",
     "collapsed": false,
     "input": [
      "tweet_freq = pd.merge(counter,nov_count, on=\"user.id\", how=\"left\")"
     ],
     "language": "python",
     "metadata": {},
     "outputs": [],
     "prompt_number": 13
    },
    {
     "cell_type": "code",
     "collapsed": false,
     "input": [
      "power_aug = tweet_freq[tweet_freq[\"count_aug\"]>=10]"
     ],
     "language": "python",
     "metadata": {},
     "outputs": [],
     "prompt_number": 14
    },
    {
     "cell_type": "code",
     "collapsed": false,
     "input": [
      "aug_10plus = power_aug.shape[0]"
     ],
     "language": "python",
     "metadata": {},
     "outputs": [],
     "prompt_number": 15
    },
    {
     "cell_type": "code",
     "collapsed": false,
     "input": [
      "aug_users = power_aug.shape[0]"
     ],
     "language": "python",
     "metadata": {},
     "outputs": [],
     "prompt_number": 16
    },
    {
     "cell_type": "markdown",
     "metadata": {},
     "source": [
      "Our goal is to calculate the percentage of users who tweeted <= 10 times in August, returned to tweet at least once after the grand jury decision"
     ]
    },
    {
     "cell_type": "code",
     "collapsed": false,
     "input": [
      "percent_return_min1 = (power_aug[\"count_nov\"].count())/float(aug_users)\n",
      "### percent of users who returned in november to tweet at least once\n",
      "percent_return_min1*100"
     ],
     "language": "python",
     "metadata": {},
     "outputs": [
      {
       "metadata": {},
       "output_type": "pyout",
       "prompt_number": 17,
       "text": [
        "81.489976604431391"
       ]
      }
     ],
     "prompt_number": 17
    },
    {
     "cell_type": "code",
     "collapsed": false,
     "input": [
      "ten_plus_nov = power_aug[power_aug[\"count_nov\"]>=10]"
     ],
     "language": "python",
     "metadata": {},
     "outputs": [],
     "prompt_number": 18
    },
    {
     "cell_type": "code",
     "collapsed": false,
     "input": [
      "nov_users = ten_plus_nov.shape[0]"
     ],
     "language": "python",
     "metadata": {},
     "outputs": [],
     "prompt_number": 19
    },
    {
     "cell_type": "code",
     "collapsed": false,
     "input": [
      "percent_return_10plus = nov_users/float(aug_users)\n",
      "### percent of users who returned in november to tweet 10 or more times\n",
      "percent_return_10plus*100"
     ],
     "language": "python",
     "metadata": {},
     "outputs": [
      {
       "metadata": {},
       "output_type": "pyout",
       "prompt_number": 20,
       "text": [
        "43.304738749483924"
       ]
      }
     ],
     "prompt_number": 20
    },
    {
     "cell_type": "code",
     "collapsed": false,
     "input": [
      "percentage_retention_by_tweet = []\n",
      "for i in range(1,11):\n",
      "    nov_counter = power_aug[power_aug[\"count_nov\"]>=i]\n",
      "    pct = (nov_counter.shape[0]/float(aug_users))*100\n",
      "    #print pct\n",
      "    percentage_retention_by_tweet.append(pct)\n",
      "    \n",
      "percentage_retention_by_tweet"
     ],
     "language": "python",
     "metadata": {},
     "outputs": [
      {
       "metadata": {},
       "output_type": "pyout",
       "prompt_number": 21,
       "text": [
        "[81.48997660443139,\n",
        " 73.48043488233405,\n",
        " 67.60401853296023,\n",
        " 62.603789164640574,\n",
        " 58.33983210239002,\n",
        " 54.60342217532914,\n",
        " 51.160603697417315,\n",
        " 48.174228175604384,\n",
        " 45.63970824349741,\n",
        " 43.304738749483924]"
       ]
      }
     ],
     "prompt_number": 21
    },
    {
     "cell_type": "code",
     "collapsed": false,
     "input": [
      "x = np.arange(1,11)\n",
      "#x = np.array(list(\"ABCDEFGHIJ\"))\n",
      "sns.set(style=\"white\", context=\"talk\")\n",
      "\n",
      "plt.bar(x, percentage_retention_by_tweet, palette=\"coolwarm\")\n"
     ],
     "language": "python",
     "metadata": {},
     "outputs": []
    },
    {
     "cell_type": "code",
     "collapsed": false,
     "input": [],
     "language": "python",
     "metadata": {},
     "outputs": []
    }
   ],
   "metadata": {}
  }
 ]
}