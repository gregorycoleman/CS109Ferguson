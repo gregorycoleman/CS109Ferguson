{
 "metadata": {
  "name": "",
  "signature": "sha256:8cf992e8f8d4d09cc20d07a298da00030d262437fca665977486f3b2b6d7c426"
 },
 "nbformat": 3,
 "nbformat_minor": 0,
 "worksheets": [
  {
   "cells": [
    {
     "cell_type": "code",
     "collapsed": false,
     "input": [
      "%matplotlib inline\n",
      "\n",
      "#import envoy \n",
      "import json\n",
      "import pymongo \n",
      "from bson import json_util # From  pymongo\n",
      "import numpy as np\n",
      "import pandas as pd\n",
      "import matplotlib.pyplot as plt\n",
      "import matplotlib.dates as md\n",
      "from datetime import datetime\n",
      "print \"imported\""
     ],
     "language": "python",
     "metadata": {},
     "outputs": [
      {
       "output_type": "stream",
       "stream": "stdout",
       "text": [
        "imported\n"
       ]
      }
     ],
     "prompt_number": 60
    },
    {
     "cell_type": "code",
     "collapsed": false,
     "input": [
      "#set up parallel computing and confirm number of engines\n",
      "\n",
      "from IPython import parallel\n",
      "\n",
      "#make sure to enter the correct profile\n",
      "clients = parallel.Client(profile='nbserver')\n",
      "\n",
      "# use synchronous computations - all results must finish computing before any results are recorded\n",
      "clients.block = True  \n",
      "dview = clients.direct_view()\n",
      "print clients.ids"
     ],
     "language": "python",
     "metadata": {},
     "outputs": [
      {
       "output_type": "stream",
       "stream": "stdout",
       "text": [
        "[0, 1, 2, 3, 4, 5]\n"
       ]
      }
     ],
     "prompt_number": 61
    },
    {
     "cell_type": "code",
     "collapsed": false,
     "input": [
      "mdb = pymongo.MongoClient()\n",
      "db = mdb.ferguson\n",
      "tweets = db.tweets\n",
      "# twtsm = db.tweets_small # if you only want to work with the smaller sample\n",
      "\n",
      "_start = datetime.now()\n",
      "print \"Number of tweets\"\n",
      "print tweets.count()\n",
      "# print twtsm.count() # smaller sample\n",
      "_end = datetime.now()\n",
      "_diff = _start - _end\n",
      "print \"Query took {} seconds\".format((_diff.microseconds)/1000000.0)"
     ],
     "language": "python",
     "metadata": {},
     "outputs": [
      {
       "output_type": "stream",
       "stream": "stdout",
       "text": [
        "Number of tweets\n",
        "15125411\n",
        "Query took 0.999099 seconds\n"
       ]
      }
     ],
     "prompt_number": 62
    },
    {
     "cell_type": "code",
     "collapsed": false,
     "input": [
      "_start = datetime.now()\n",
      "# user = twtsm.find({\"user.id\": 718319754}) # for small sample since it's already indexed by user ascending, dates descending\n",
      "user = tweets.find({\"user.id\": 718319754})\n",
      "\n",
      "print \"Query took {} seconds\".format((_diff.microseconds)/1000000.0)\n",
      "_end = datetime.now()\n",
      "_diff = _start - _end"
     ],
     "language": "python",
     "metadata": {},
     "outputs": [
      {
       "output_type": "stream",
       "stream": "stdout",
       "text": [
        "Query took 0.999099 seconds\n"
       ]
      }
     ],
     "prompt_number": 63
    },
    {
     "cell_type": "code",
     "collapsed": false,
     "input": [
      "# turn cursor to an array to work with long term\n",
      "hotnostrils = list(user)\n",
      "\n",
      "len(hotnostrils)"
     ],
     "language": "python",
     "metadata": {},
     "outputs": [
      {
       "metadata": {},
       "output_type": "pyout",
       "prompt_number": 64,
       "text": [
        "4110"
       ]
      }
     ],
     "prompt_number": 64
    },
    {
     "cell_type": "markdown",
     "metadata": {},
     "source": [
      "##Followers/Friends, Start/End##"
     ]
    },
    {
     "cell_type": "code",
     "collapsed": false,
     "input": [
      "# warning: very hacky.  not generalizable.  i know ahead of time the that tweets are sorted by date because of query\n",
      "userinfo = [0] * len(hotnostrils)\n",
      "counter = 0\n",
      "\n",
      "for tweet in hotnostrils:\n",
      "#     print tweet[\"created_at\"]\n",
      "#     print tweet[\"created_at\"], tweet[\"user\"][\"followers_count\"], tweet[\"user\"][\"friends_count\"]\n",
      "\n",
      "    userinfo[counter] = (tweet[\"created_at\"], tweet[\"user\"][\"followers_count\"], tweet[\"user\"][\"friends_count\"])\n",
      "    counter += 1\n",
      "    \n",
      "\n",
      "print \"Start: \", userinfo[-1][0]\n",
      "print \"Followers: \", userinfo[-1][1]\n",
      "print \"Friends: \", userinfo[-1][2]\n",
      "print \"\"\n",
      "print \"End: \", userinfo[0][0]\n",
      "print \"Followers: \", userinfo[0][1]\n",
      "print \"Friends: \", userinfo[0][2]"
     ],
     "language": "python",
     "metadata": {},
     "outputs": [
      {
       "output_type": "stream",
       "stream": "stdout",
       "text": [
        "Start:  Sat Nov 15 17:22:43 +0000 2014\n",
        "Followers:  845\n",
        "Friends:  679\n",
        "\n",
        "End:  Mon Nov 24 22:43:20 +0000 2014\n",
        "Followers:  951\n",
        "Friends:  749\n"
       ]
      }
     ],
     "prompt_number": 65
    },
    {
     "cell_type": "code",
     "collapsed": false,
     "input": [
      "userinfo[-1][0]"
     ],
     "language": "python",
     "metadata": {},
     "outputs": [
      {
       "metadata": {},
       "output_type": "pyout",
       "prompt_number": 67,
       "text": [
        "u'Sat Nov 15 17:22:43 +0000 2014'"
       ]
      }
     ],
     "prompt_number": 67
    },
    {
     "cell_type": "code",
     "collapsed": false,
     "input": [
      "ffcount = pd.DataFrame(userinfo, columns = [\"created_at\", \"followers\", \"friends\"])\n",
      "ffcount.head()"
     ],
     "language": "python",
     "metadata": {},
     "outputs": [
      {
       "html": [
        "<div style=\"max-height:1000px;max-width:1500px;overflow:auto;\">\n",
        "<table border=\"1\" class=\"dataframe\">\n",
        "  <thead>\n",
        "    <tr style=\"text-align: right;\">\n",
        "      <th></th>\n",
        "      <th>created_at</th>\n",
        "      <th>followers</th>\n",
        "      <th>friends</th>\n",
        "    </tr>\n",
        "  </thead>\n",
        "  <tbody>\n",
        "    <tr>\n",
        "      <th>0</th>\n",
        "      <td> Mon Nov 24 22:43:20 +0000 2014</td>\n",
        "      <td> 951</td>\n",
        "      <td> 749</td>\n",
        "    </tr>\n",
        "    <tr>\n",
        "      <th>1</th>\n",
        "      <td> Tue Nov 18 16:31:29 +0000 2014</td>\n",
        "      <td> 852</td>\n",
        "      <td> 685</td>\n",
        "    </tr>\n",
        "    <tr>\n",
        "      <th>2</th>\n",
        "      <td> Tue Nov 25 17:16:22 +0000 2014</td>\n",
        "      <td> 973</td>\n",
        "      <td> 766</td>\n",
        "    </tr>\n",
        "    <tr>\n",
        "      <th>3</th>\n",
        "      <td> Tue Nov 18 16:28:21 +0000 2014</td>\n",
        "      <td> 852</td>\n",
        "      <td> 685</td>\n",
        "    </tr>\n",
        "    <tr>\n",
        "      <th>4</th>\n",
        "      <td> Tue Nov 18 23:55:12 +0000 2014</td>\n",
        "      <td> 854</td>\n",
        "      <td> 684</td>\n",
        "    </tr>\n",
        "  </tbody>\n",
        "</table>\n",
        "</div>"
       ],
       "metadata": {},
       "output_type": "pyout",
       "prompt_number": 95,
       "text": [
        "                       created_at  followers  friends\n",
        "0  Mon Nov 24 22:43:20 +0000 2014        951      749\n",
        "1  Tue Nov 18 16:31:29 +0000 2014        852      685\n",
        "2  Tue Nov 25 17:16:22 +0000 2014        973      766\n",
        "3  Tue Nov 18 16:28:21 +0000 2014        852      685\n",
        "4  Tue Nov 18 23:55:12 +0000 2014        854      684"
       ]
      }
     ],
     "prompt_number": 95
    },
    {
     "cell_type": "code",
     "collapsed": false,
     "input": [
      "_start = datetime.now()\n",
      "\n",
      "%px import pandas as pd\n",
      "#scatter dataframe to all cores.  If four cores are used, each core recieves 1/4 of the text\n",
      "dview.scatter('ffcount', ffcount)\n",
      "\n",
      "dview.execute(\"ffcount['date'] = pd.to_datetime(ffcount['created_at'])\")\n",
      "# dview.execute('ffcount[\"month\"] = map(lambda x: x.month, ffcount.date)')\n",
      "# dview.execute('ffcount[\"day\"] = map(lambda x: x.day, ffcount.date)')\n",
      "# dview.execute('ffcount[\"hour\"] = map(lambda x:x.hour, ffcount.date)')\n",
      "# dview.execute('ffcount[\"minute\"] = map(lambda x:x.minute, ffcount.date)')\n",
      "list_p = dview.gather('ffcount')\n",
      "hotnos = pd.concat(list_p)\n",
      "\n",
      "_end = datetime.now()\n",
      "_diff = _end - _start\n",
      "print \"Preparing dataframe with parallel computing took {} seconds\".format(_diff.total_seconds())"
     ],
     "language": "python",
     "metadata": {},
     "outputs": [
      {
       "output_type": "stream",
       "stream": "stdout",
       "text": [
        "Preparing dataframe with parallel computing took 0.23231 seconds\n"
       ]
      }
     ],
     "prompt_number": 96
    },
    {
     "cell_type": "code",
     "collapsed": false,
     "input": [
      "hotnos.head()"
     ],
     "language": "python",
     "metadata": {},
     "outputs": [
      {
       "html": [
        "<div style=\"max-height:1000px;max-width:1500px;overflow:auto;\">\n",
        "<table border=\"1\" class=\"dataframe\">\n",
        "  <thead>\n",
        "    <tr style=\"text-align: right;\">\n",
        "      <th></th>\n",
        "      <th>created_at</th>\n",
        "      <th>followers</th>\n",
        "      <th>friends</th>\n",
        "      <th>date</th>\n",
        "    </tr>\n",
        "  </thead>\n",
        "  <tbody>\n",
        "    <tr>\n",
        "      <th>0</th>\n",
        "      <td> Mon Nov 24 22:43:20 +0000 2014</td>\n",
        "      <td> 951</td>\n",
        "      <td> 749</td>\n",
        "      <td>2014-11-24 22:43:20</td>\n",
        "    </tr>\n",
        "    <tr>\n",
        "      <th>1</th>\n",
        "      <td> Tue Nov 18 16:31:29 +0000 2014</td>\n",
        "      <td> 852</td>\n",
        "      <td> 685</td>\n",
        "      <td>2014-11-18 16:31:29</td>\n",
        "    </tr>\n",
        "    <tr>\n",
        "      <th>2</th>\n",
        "      <td> Tue Nov 25 17:16:22 +0000 2014</td>\n",
        "      <td> 973</td>\n",
        "      <td> 766</td>\n",
        "      <td>2014-11-25 17:16:22</td>\n",
        "    </tr>\n",
        "    <tr>\n",
        "      <th>3</th>\n",
        "      <td> Tue Nov 18 16:28:21 +0000 2014</td>\n",
        "      <td> 852</td>\n",
        "      <td> 685</td>\n",
        "      <td>2014-11-18 16:28:21</td>\n",
        "    </tr>\n",
        "    <tr>\n",
        "      <th>4</th>\n",
        "      <td> Tue Nov 18 23:55:12 +0000 2014</td>\n",
        "      <td> 854</td>\n",
        "      <td> 684</td>\n",
        "      <td>2014-11-18 23:55:12</td>\n",
        "    </tr>\n",
        "  </tbody>\n",
        "</table>\n",
        "</div>"
       ],
       "metadata": {},
       "output_type": "pyout",
       "prompt_number": 97,
       "text": [
        "                       created_at  followers  friends                date\n",
        "0  Mon Nov 24 22:43:20 +0000 2014        951      749 2014-11-24 22:43:20\n",
        "1  Tue Nov 18 16:31:29 +0000 2014        852      685 2014-11-18 16:31:29\n",
        "2  Tue Nov 25 17:16:22 +0000 2014        973      766 2014-11-25 17:16:22\n",
        "3  Tue Nov 18 16:28:21 +0000 2014        852      685 2014-11-18 16:28:21\n",
        "4  Tue Nov 18 23:55:12 +0000 2014        854      684 2014-11-18 23:55:12"
       ]
      }
     ],
     "prompt_number": 97
    },
    {
     "cell_type": "code",
     "collapsed": false,
     "input": [
      "hotnos.sort(\"date\", inplace=True)\n",
      "hotnos.head()"
     ],
     "language": "python",
     "metadata": {},
     "outputs": [
      {
       "html": [
        "<div style=\"max-height:1000px;max-width:1500px;overflow:auto;\">\n",
        "<table border=\"1\" class=\"dataframe\">\n",
        "  <thead>\n",
        "    <tr style=\"text-align: right;\">\n",
        "      <th></th>\n",
        "      <th>created_at</th>\n",
        "      <th>followers</th>\n",
        "      <th>friends</th>\n",
        "      <th>date</th>\n",
        "    </tr>\n",
        "  </thead>\n",
        "  <tbody>\n",
        "    <tr>\n",
        "      <th>1656</th>\n",
        "      <td> Tue Nov 11 22:17:47 +0000 2014</td>\n",
        "      <td> 844</td>\n",
        "      <td> 680</td>\n",
        "      <td>2014-11-11 22:17:47</td>\n",
        "    </tr>\n",
        "    <tr>\n",
        "      <th>3107</th>\n",
        "      <td> Tue Nov 11 22:24:14 +0000 2014</td>\n",
        "      <td> 844</td>\n",
        "      <td> 680</td>\n",
        "      <td>2014-11-11 22:24:14</td>\n",
        "    </tr>\n",
        "    <tr>\n",
        "      <th>1649</th>\n",
        "      <td> Tue Nov 11 22:33:51 +0000 2014</td>\n",
        "      <td> 844</td>\n",
        "      <td> 680</td>\n",
        "      <td>2014-11-11 22:33:51</td>\n",
        "    </tr>\n",
        "    <tr>\n",
        "      <th>3106</th>\n",
        "      <td> Tue Nov 11 22:36:03 +0000 2014</td>\n",
        "      <td> 844</td>\n",
        "      <td> 680</td>\n",
        "      <td>2014-11-11 22:36:03</td>\n",
        "    </tr>\n",
        "    <tr>\n",
        "      <th>1648</th>\n",
        "      <td> Tue Nov 11 22:39:05 +0000 2014</td>\n",
        "      <td> 844</td>\n",
        "      <td> 680</td>\n",
        "      <td>2014-11-11 22:39:05</td>\n",
        "    </tr>\n",
        "  </tbody>\n",
        "</table>\n",
        "</div>"
       ],
       "metadata": {},
       "output_type": "pyout",
       "prompt_number": 98,
       "text": [
        "                          created_at  followers  friends                date\n",
        "1656  Tue Nov 11 22:17:47 +0000 2014        844      680 2014-11-11 22:17:47\n",
        "3107  Tue Nov 11 22:24:14 +0000 2014        844      680 2014-11-11 22:24:14\n",
        "1649  Tue Nov 11 22:33:51 +0000 2014        844      680 2014-11-11 22:33:51\n",
        "3106  Tue Nov 11 22:36:03 +0000 2014        844      680 2014-11-11 22:36:03\n",
        "1648  Tue Nov 11 22:39:05 +0000 2014        844      680 2014-11-11 22:39:05"
       ]
      }
     ],
     "prompt_number": 98
    },
    {
     "cell_type": "code",
     "collapsed": false,
     "input": [
      "plt.figure(figsize=(20, 8))\n",
      "plt.plot_date(x=md.date2num(hotnos[\"date\"]), y=hotnos[\"followers\"],  linestyle=\"-\", marker=None, color=\"r\", label=\"followers\")\n",
      "plt.plot_date(x=md.date2num(hotnos[\"date\"]), y=hotnos[\"friends\"], linestyle=\"-\", marker=None, color=\"b\", label=\"friends\")\n",
      "plt.legend()\n",
      "plt.show()"
     ],
     "language": "python",
     "metadata": {},
     "outputs": [
      {
       "ename": "NameError",
       "evalue": "name 'date2num' is not defined",
       "output_type": "pyerr",
       "traceback": [
        "\u001b[1;31m---------------------------------------------------------------------------\u001b[0m\n\u001b[1;31mNameError\u001b[0m                                 Traceback (most recent call last)",
        "\u001b[1;32m<ipython-input-121-2f0d6bc55585>\u001b[0m in \u001b[0;36m<module>\u001b[1;34m()\u001b[0m\n\u001b[0;32m      1\u001b[0m \u001b[0mplt\u001b[0m\u001b[1;33m.\u001b[0m\u001b[0mfigure\u001b[0m\u001b[1;33m(\u001b[0m\u001b[0mfigsize\u001b[0m\u001b[1;33m=\u001b[0m\u001b[1;33m(\u001b[0m\u001b[1;36m20\u001b[0m\u001b[1;33m,\u001b[0m \u001b[1;36m8\u001b[0m\u001b[1;33m)\u001b[0m\u001b[1;33m)\u001b[0m\u001b[1;33m\u001b[0m\u001b[0m\n\u001b[1;32m----> 2\u001b[1;33m \u001b[0mplt\u001b[0m\u001b[1;33m.\u001b[0m\u001b[0mplot_date\u001b[0m\u001b[1;33m(\u001b[0m\u001b[0mx\u001b[0m\u001b[1;33m=\u001b[0m\u001b[0mdate2num\u001b[0m\u001b[1;33m(\u001b[0m\u001b[0mhotnos\u001b[0m\u001b[1;33m[\u001b[0m\u001b[1;34m\"date\"\u001b[0m\u001b[1;33m]\u001b[0m\u001b[1;33m)\u001b[0m\u001b[1;33m,\u001b[0m \u001b[0my\u001b[0m\u001b[1;33m=\u001b[0m\u001b[0mhotnos\u001b[0m\u001b[1;33m[\u001b[0m\u001b[1;34m\"followers\"\u001b[0m\u001b[1;33m]\u001b[0m\u001b[1;33m,\u001b[0m  \u001b[0mlinestyle\u001b[0m\u001b[1;33m=\u001b[0m\u001b[1;34m\"-\"\u001b[0m\u001b[1;33m,\u001b[0m \u001b[0mmarker\u001b[0m\u001b[1;33m=\u001b[0m\u001b[0mNone\u001b[0m\u001b[1;33m,\u001b[0m \u001b[0mcolor\u001b[0m\u001b[1;33m=\u001b[0m\u001b[1;34m\"r\"\u001b[0m\u001b[1;33m,\u001b[0m \u001b[0mlabel\u001b[0m\u001b[1;33m=\u001b[0m\u001b[1;34m\"followers\"\u001b[0m\u001b[1;33m)\u001b[0m\u001b[1;33m\u001b[0m\u001b[0m\n\u001b[0m\u001b[0;32m      3\u001b[0m \u001b[0mplt\u001b[0m\u001b[1;33m.\u001b[0m\u001b[0mplot_date\u001b[0m\u001b[1;33m(\u001b[0m\u001b[0mx\u001b[0m\u001b[1;33m=\u001b[0m\u001b[0mdate2num\u001b[0m\u001b[1;33m(\u001b[0m\u001b[0mhotnos\u001b[0m\u001b[1;33m[\u001b[0m\u001b[1;34m\"date\"\u001b[0m\u001b[1;33m]\u001b[0m\u001b[1;33m)\u001b[0m\u001b[1;33m,\u001b[0m \u001b[0my\u001b[0m\u001b[1;33m=\u001b[0m\u001b[0mhotnos\u001b[0m\u001b[1;33m[\u001b[0m\u001b[1;34m\"friends\"\u001b[0m\u001b[1;33m]\u001b[0m\u001b[1;33m,\u001b[0m \u001b[0mlinestyle\u001b[0m\u001b[1;33m=\u001b[0m\u001b[1;34m\"-\"\u001b[0m\u001b[1;33m,\u001b[0m \u001b[0mmarker\u001b[0m\u001b[1;33m=\u001b[0m\u001b[0mNone\u001b[0m\u001b[1;33m,\u001b[0m \u001b[0mcolor\u001b[0m\u001b[1;33m=\u001b[0m\u001b[1;34m\"b\"\u001b[0m\u001b[1;33m,\u001b[0m \u001b[0mlabel\u001b[0m\u001b[1;33m=\u001b[0m\u001b[1;34m\"friends\"\u001b[0m\u001b[1;33m)\u001b[0m\u001b[1;33m\u001b[0m\u001b[0m\n\u001b[0;32m      4\u001b[0m \u001b[0mplt\u001b[0m\u001b[1;33m.\u001b[0m\u001b[0mlegend\u001b[0m\u001b[1;33m(\u001b[0m\u001b[1;33m)\u001b[0m\u001b[1;33m\u001b[0m\u001b[0m\n\u001b[0;32m      5\u001b[0m \u001b[0mplt\u001b[0m\u001b[1;33m.\u001b[0m\u001b[0mshow\u001b[0m\u001b[1;33m(\u001b[0m\u001b[1;33m)\u001b[0m\u001b[1;33m\u001b[0m\u001b[0m\n",
        "\u001b[1;31mNameError\u001b[0m: name 'date2num' is not defined"
       ]
      },
      {
       "metadata": {},
       "output_type": "display_data",
       "text": [
        "<matplotlib.figure.Figure at 0x7faf43760950>"
       ]
      }
     ]
    },
    {
     "cell_type": "code",
     "collapsed": false,
     "input": [
      "# default dict info from http://evanmuehlhausen.com/simple-counters-in-python-with-benchmarks/\n",
      "from collections import defaultdict\n",
      "\n",
      "# orginal recipe tags\n",
      "otags = defaultdict(int)\n",
      "\n",
      "# dict for retweet tags counts\n",
      "rtags = defaultdict(int)\n",
      "\n",
      "# counter for the number of orginal tweets from thie user\n",
      "original_count = 0\n",
      "\n",
      "# go through tweets of the user\n",
      "for tweet in hotnostrils:\n",
      "    # get the tags\n",
      "    tags = [hashtags[\"text\"] for hashtags in tweet[\"entities\"][\"hashtags\"]]\n",
      "    \n",
      "    # update the dict that is keeping count of the tag fq.\n",
      "    for tag in tags:\n",
      "        if \"retweeted_status\" in tweet:\n",
      "            rtags[tag] += 1\n",
      "        else:\n",
      "            otags[tag] += 1\n",
      "            original_count += 1\n",
      "\n",
      "print \"Go on...\""
     ],
     "language": "python",
     "metadata": {},
     "outputs": [
      {
       "output_type": "stream",
       "stream": "stdout",
       "text": [
        "Go on...\n"
       ]
      }
     ],
     "prompt_number": 80
    },
    {
     "cell_type": "markdown",
     "metadata": {},
     "source": [
      "##Hashtag counts from both original and retweets##"
     ]
    },
    {
     "cell_type": "code",
     "collapsed": false,
     "input": [
      "# operator info: http://stackoverflow.com/questions/613183/sort-a-python-dictionary-by-value\n",
      "import operator\n",
      "\n",
      "sorted_otags = sorted(otags.items(), key = operator.itemgetter(1))\n",
      "sorted_rtags = sorted(rtags.items(), key = operator.itemgetter(1))\n",
      "\n",
      "sorted_otags.reverse()\n",
      "sorted_rtags.reverse()\n",
      "\n",
      "print \"User: @hotnostrilsrfun\"\n",
      "print \"\"\n",
      "\n",
      "print \"Original tweets: \", original_count\n",
      "print \"Retweets: \", len(hotnostrils) - original_count\n",
      "print \"\"\n",
      "\n",
      "print \"Original Tweet Hashtags\"\n",
      "\n",
      "for tag in sorted_otags:\n",
      "    print tag[0], \": \", tag[1]\n",
      "\n",
      "print \"\"\n",
      "    \n",
      "print \"Retweet Hashtags\"\n",
      "\n",
      "for tag in sorted_rtags[:25]:\n",
      "    print tag[0], \": \", tag[1]"
     ],
     "language": "python",
     "metadata": {},
     "outputs": [
      {
       "output_type": "stream",
       "stream": "stdout",
       "text": [
        "User: @hotnostrilsrfun\n",
        "\n",
        "Original tweets:  1012\n",
        "Retweets:  3098\n",
        "\n",
        "Original Tweet Hashtags\n",
        "Ferguson :  853\n",
        "ferguson :  139\n",
        "JusticeForZemir :  4\n",
        "hilarity :  1\n",
        "OathKeepers :  1\n",
        "StopProfilingPolice :  1\n",
        "speedbumps :  1\n",
        "MikeBrown :  1\n",
        "GetAClue :  1\n",
        "SupportPolice :  1\n",
        "dramaqueens :  1\n",
        "jodiArias :  1\n",
        "fuckedUp :  1\n",
        "StLouis :  1\n",
        "ThugMom :  1\n",
        "shaw :  1\n",
        "HighAsHell :  1\n",
        "FERGUSON :  1\n",
        "delusional :  1\n",
        "\n",
        "Retweet Hashtags\n",
        "Ferguson :  2653\n",
        "ferguson :  389\n",
        "tcot :  94\n",
        "MikeBrown :  90\n",
        "DarrenWilson :  66\n",
        "MichaelBrown :  41\n",
        "CNN :  24\n",
        "FergusonDecision :  24\n",
        "StLouis :  19\n",
        "STL :  19\n",
        "Obama :  17\n",
        "FERGUSON :  17\n",
        "mikebrown :  15\n",
        "BlackLivesMatter :  15\n",
        "ViolenceWillNotBeTolerated :  14\n",
        "shaunking :  14\n",
        "stl :  13\n",
        "cnn :  12\n",
        "JusticeForZemir :  12\n",
        "tlot :  11\n",
        "RedNationRising :  10\n",
        "ccot :  10\n",
        "pjnet :  9\n",
        "HandsUpDontShoot :  8\n",
        "MSNBC :  8\n"
       ]
      }
     ],
     "prompt_number": 120
    },
    {
     "cell_type": "code",
     "collapsed": false,
     "input": [
      "rtg = pd.DataFrame(sorted_rtags[:25], columns = [\"hashtag\", \"num\"])\n",
      "rtg.head()"
     ],
     "language": "python",
     "metadata": {},
     "outputs": [
      {
       "html": [
        "<div style=\"max-height:1000px;max-width:1500px;overflow:auto;\">\n",
        "<table border=\"1\" class=\"dataframe\">\n",
        "  <thead>\n",
        "    <tr style=\"text-align: right;\">\n",
        "      <th></th>\n",
        "      <th>hashtag</th>\n",
        "      <th>num</th>\n",
        "    </tr>\n",
        "  </thead>\n",
        "  <tbody>\n",
        "    <tr>\n",
        "      <th>0</th>\n",
        "      <td>     Ferguson</td>\n",
        "      <td> 2653</td>\n",
        "    </tr>\n",
        "    <tr>\n",
        "      <th>1</th>\n",
        "      <td>     ferguson</td>\n",
        "      <td>  389</td>\n",
        "    </tr>\n",
        "    <tr>\n",
        "      <th>2</th>\n",
        "      <td>         tcot</td>\n",
        "      <td>   94</td>\n",
        "    </tr>\n",
        "    <tr>\n",
        "      <th>3</th>\n",
        "      <td>    MikeBrown</td>\n",
        "      <td>   90</td>\n",
        "    </tr>\n",
        "    <tr>\n",
        "      <th>4</th>\n",
        "      <td> DarrenWilson</td>\n",
        "      <td>   66</td>\n",
        "    </tr>\n",
        "  </tbody>\n",
        "</table>\n",
        "</div>"
       ],
       "metadata": {},
       "output_type": "pyout",
       "prompt_number": 114,
       "text": [
        "        hashtag   num\n",
        "0      Ferguson  2653\n",
        "1      ferguson   389\n",
        "2          tcot    94\n",
        "3     MikeBrown    90\n",
        "4  DarrenWilson    66"
       ]
      }
     ],
     "prompt_number": 114
    },
    {
     "cell_type": "code",
     "collapsed": false,
     "input": [
      "x = np.arange(len(rtg))\n",
      "\n",
      "plt.figure(figsize=(20, 4))\n",
      "plt.bar(x, rtg[\"num\"])\n",
      "plt.xticks(x, rtg[\"hashtag\"], rotation=90)\n",
      "plt.xlim(0, len(rtg))\n",
      "plt.show()"
     ],
     "language": "python",
     "metadata": {},
     "outputs": [
      {
       "metadata": {},
       "output_type": "display_data",
       "png": "[encoded data removed]",
       "text": [
        "<matplotlib.figure.Figure at 0x7faf43f19810>"
       ]
      }
     ],
     "prompt_number": 119
    },
    {
     "cell_type": "markdown",
     "metadata": {},
     "source": [
      "##Text of original tweets##"
     ]
    },
    {
     "cell_type": "code",
     "collapsed": false,
     "input": [
      "# # NOTE: THIS IS FROM TWEETS_SMALL\n",
      "# for tweet in hotnostrils:\n",
      "#     if \"retweeted_status\" not in tweet:\n",
      "#         print tweet[\"text\"]"
     ],
     "language": "python",
     "metadata": {},
     "outputs": [
      {
       "output_type": "stream",
       "stream": "stdout",
       "text": [
        "I used to think I was a liberal! Voted for Obama, TWICE! Never Again! I will be a republican until the day I die!  FUCK OBAMA! #Ferguson\n",
        "@JaneQCitizen16 I so hope Bassem misses the announcement &amp; spends it behind bars! #Ferguson\n",
        "So where's Bassem this glorious morning? Still in the pokey? #Ferguson\n",
        "@KiriLanice @JTPuhlyak @zellieimani It's not white fear gun buyin, its determination. I'd do exactly the same. Fuck the Rioters #Ferguson\n",
        "Would rather repeatedly jam a rusty fork in my left eyeball than read @deray newsletter. #Ferguson\n",
        "Where I live, HARRASSING a police officer is a crime. Don't understand why it isn't in  #Ferguson\n",
        "Shooter Florida university didn't follow directions, instead fired at police, shot dead. That's the way it works. Take Note #Ferguson\n",
        "So did the police arrest any black people tonight? Bassem, white \"pastor\" and who else?  #Ferguson\n",
        "And while I'm at it. SCREW the KKK and ANONYMOUS and the BLACK PANTHERS and the RIOTERS! #Ferguson\n",
        "Protesters can call themselves peaceful all they want. No one is convinced. Everyone knows the truth.  #Ferguson\n",
        "I like to start a fund:  Bassem a one way ticket to Palestine.  Where he can talk shit &amp; throw rocks, while hiding behind a child #Ferguson\n",
        "http://t.co/fxuKyTYl0B #Ferguson\n",
        "#Ferguson Police again showed protesters whose street! (Really slow learners)\n",
        "Law Enforcement  SHUT BASSEMS SHIT DOWN TONIGHT in #Ferguson\n",
        "@SheeitDawg @aroadwarrior1 I think he's a professional snitch that's trying hard to parlay the exposure in #Ferguson into a media gig.\n",
        "Wouldn't it be FANTASTIC if Bassem missed the Grand Jury decision? Had to spend the next week or so behind bars! \ud83d\ude02#Ferguson\n",
        "So why aren't protesters begging for bail money? Did Al Sharpton or lard ass Rosie O'donnel  donate $? LMAO! #Ferguson\n",
        "It's probably a lie that Bassems phone was smashed, just another ploy to beg for $$ #Ferguson\n",
        "Passing this on. Hope you can arrest this one! @stlcountypd #Ferguson http://t.co/piYdJy9IsG\n",
        "Law Enforcement did an exceptional job tonight! Thank you! @stlcountypd   #Ferguson\n",
        "@CassandraRules noooooo keep Bassem locked up! #Ferguson\n",
        "Peaceful? Pffft!  Walk up to any protester and speak to them the way they do the police. Then try to convince them it's peaceful. #Ferguson\n",
        "Stupid mother fuckers still don't understand it's dangerous to play in the street. Even after protester has foot run over! SMH  #Ferguson\n",
        "@TallyAnnaE @melaninbarbie Just checking to see if the protesters learned. They did, got out of the street lightening fast! #Ferguson\n",
        "More convinced than ever that Bassem is an informant. #Ferguson\n",
        "@CinnaAyn you know blocking the street traffic is illegal, right? Don't whine when arrested. #Ferguson\n",
        "@CinnaAyn Bassem is on his way. Not sure that's the kinda \"help\" you need. #1 agitator. #Ferguson\n",
        "@CinnaAyn Why do peaceful protesters need \"backup\" at #Ferguson PD?\n",
        "@AurielEbonie Why do peaceful protesters need backup at #Ferguson PD?\n",
        "@ArrestWilson distance between Brown &amp; SUV irrelevant. important is distance between Wilson &amp; Brown at the end. Less than 20ft #Ferguson\n",
        "I find it rather amusing that those protesters spewing hate whitey &amp; ignorance have a problem with the KKK being equally stupid!  #Ferguson\n",
        "@rickybird11811 @Pharma_Trader  I haven't watched since Whoopi said Polanski didn't \"rape rape\" that 14 yr old he drugged.  #Ferguson\n",
        "@bassem_masri @PattiLongworth Weren't you also cheering when the liars claimed at first a cop was killed? #Ferguson\n",
        "Being educated, law abiding &amp; productive citizen isn't a white thing. It's being a civilized member of society. #Ferguson\n",
        "@PinxJinx @lil_zoo314 I would bet DORIAN JOHNSON did too, especially w/felony murder over his head. #Ferguson\n",
        "@MiZzYouniqu3 @UnitedFrontRev @Ms_TeeWiz Right! I'm a woman! Shopping is in my blood! I'll shop wherever &amp; whenever I like! #Ferguson\n",
        "@UnitedFrontRev @Ms_TeeWiz @MiZzYouniqu3 You don't invest in your community by holding it hostage ASSHOLE! #Ferguson\n",
        "@UnitedFrontRev @Ms_TeeWiz @MiZzYouniqu3 I never shop on Black Friday, this year I'm going to make it a point to SHOP! #Ferguson\n",
        "Is anyone shocked media witnesses sang different tune, under oath, before the grand jury? I'm not!  #Ferguson\n",
        "When are they going to arrest gang banging, pipe toting, THUG MOM?  #Ferguson\n",
        "@stackizshort STAY WOKE? You sound every bit the idiot you are. #Ferguson\n",
        "Those LYING in the media deserve to be thrown to the protesters! PUBLISH their names when GJ evidence is released!  #Ferguson\n",
        "The LYING MEDIA WHORES that started the BIG LIE that is  #Ferguson don't deserve to have names redacted from their truthful GJ testimony\n",
        "@outintherain84 @CNN I agree the LYING MEDIA WHORES that started the BIG LIE that is #Ferguson needs their names PUBLISHED!\n",
        "MUST READ  http://t.co/T58O7CLqmz\n",
        "Witnesses sing different tune before GJ than in the media! http://t.co/cB5E2j3b4W DUH! Ghost Dorian\n",
        "@nedmiller Shhhh the correction officer rapist was black. Protesters don't want it mentioned;) #Ferguson\n",
        "Would be hilarious if after GJ announcement nothing happened. Media &amp; law enforcement would look so silly. Protesters respected in #Ferguson\n",
        "Sandwich shooter shot down trying to MURDER a cop  http://t.co/0GnQzZ6iqc #Ferguson\n",
        "Sandwich shooter.  http://t.co/0GnQzZ6iqc #Ferguson\n",
        "@CNN  http://t.co/iFgWq1LAS5 #Ferguson\n",
        "People protesting in #Ferguson joined up for the same reason people join street gangs. \"Family\" they never had.\n",
        "Only person that put no value on Mike Browns life, was Mike Brown. He threw his away. ThugLife=NoLife  #Ferguson\n",
        "@tcaLdarez @doggy_yuck All protesters are to blame when they shield &amp; invite the violent ones. #Ferguson\n",
        "@crystal_faith88 Is there something happening in #Ferguson ? lol\n",
        "@shawna2727 @akacharleswade If Brown could have been your child, I urge you to take parenting classes. #Ferguson\n",
        "Just not seeing anything to get worked up about. Looks like a loser that plays dress up in moms basement #Ferguson http://t.co/v7Dw84hhuc\n",
        "@WayneDupreeShow Surely, the police are behind the car theft &amp; burgled home of protesters! lol #Ferguson\n",
        "Shocking! White neighbor tells her son's the same things I've taught mine about interacting with law enforcement! #Ferguson\n",
        "My white neighbors are thankful their sons get speeding tickets, says hers needed to LEARN the hard way.  #Ferguson\n",
        "Asked my white neighbors specifically  if their sons get stopped by police, answer, yes. Parents thankful for the extra eyes.  #Ferguson\n",
        "Honey Boo Boo's mom is giving Mike Browns mom some stiff competition for Mother of the Year #Ferguson Style!\n"
       ]
      }
     ],
     "prompt_number": 31
    }
   ],
   "metadata": {}
  }
 ]
}